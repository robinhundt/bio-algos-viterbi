{
 "cells": [
  {
   "cell_type": "markdown",
   "metadata": {},
   "source": [
    "# Algorithmen der Bioinformatik I - Blatt 2\n",
    "\n",
    "Autoren: Niklas Müller, Robin William Hundt"
   ]
  },
  {
   "cell_type": "markdown",
   "metadata": {},
   "source": [
    "## HMM zum unehrlichen Casino\n",
    "Die Implementation des Viterbialgorithmus für ein normales HMM befindet sich in der `bioalgosviterbi/src/main/java/viterbi/Viterbi` Datei.\n",
    "\n",
    "#### Stimmt der berechnete Pfad mit dem aus der Abbildung überein?\n",
    "Ja, die Pfade stimme überein.  \n",
    "In der Datei `bioalgosviterbi/src/test/java/viterbi/ViterbiTest` befindet sich ein JUnit Test zur Überprüfung der Übereinstimmung des generierten Pfades mit dem aus \"Biological sequence analysis\" Seite 57.\n",
    "\n",
    "#### Welche Möglichkeit gäbe es, die Unsicherheit des Modells an bestimmten Stellen der Sequenz weiter zu untersuchen?\n",
    "Um die Unsicherheit des Modells an bestimmten Stellen zu untersuchen könnte die posterior probability $P(\\pi_i=k|x)$ genutzt werden. Diese gibt an wie wahrscheinlich es ist, dass die Observation $x_i$ aus dem state $k$ emittiert wurde, gegeben der gesamten emittierten Sequenz $x$.  \n",
    "Betrachtet man nun den Viterbipfad könnte für jeden state die posterior probabilty berechnet werden. Ist diese klein weist dies auf eine Stelle der Sequenz hin an denen sich das Modell unsicher sein könnte.\n",
    "\n",
    "#### Skizzieren  Sie  einen  allgemeinen  Algorithmus  zur  Markierung  von Sequenzpositionen, an denen das Modell bezüglich der Rekonstruktion (“Vorhersage”) der Zustände möglicherweise unzuverlässig ist.\n",
    "\n",
    "Sei $M_{vit}$ unser Viterbimodell, $x$ die Observationen\n",
    "\n",
    "$\\pi_{vit}$ = calc_vit_path($M_{vit}, x$)\n",
    "  \n",
    "for k in $\\pi_{vit}$:  \n",
    ">    post_p = calc $P(\\pi_i=k|x)$  \n",
    ">    if post_p < threshold:  \n",
    ">>        mark k  \n",
    "\n",
    "Die threshold Variable is ein Hyperparameter, welcher im Vorfeld sinnvoll gewählt werden muss.\n",
    "\n",
    "#### Was müssten Sie bei der Implementation insbesondere beachten, um numerisch sinnvolle Ergebnisse zu erhalten?\n",
    "\n",
    "Es muss beachtet werden, dass sowohl in der Implementation des Viterbialgorithmus als auch in der des Back-/Forwardalgorithmus mit logarithmierten Wahrscheinlichkeiten gerechnet wird. Andernfalls führt die häufige Multiplikation von werden $<1$ schnell zu Werten welche nicht mehr durch normale Gleitkommazahlen dargestellt werden können."
   ]
  },
  {
   "cell_type": "markdown",
   "metadata": {},
   "source": [
    "### Profil-HMM zur Erkenunng ribosomaler RNA-Sequenzen\n",
    "\n",
    "### Schätzen der Modellparameter"
   ]
  },
  {
   "cell_type": "markdown",
   "metadata": {},
   "source": [
    "#### Gibt es Regionen auf der 23S rRNA mit relativ geringer Entropie, also Regionen in denen bestimmte Buchstaben (Basen)  deutlich  häufiger  vorkommen  als  andere?"
   ]
  },
  {
   "cell_type": "markdown",
   "metadata": {},
   "source": [
    "#### Welche  Bedeutung haben  solche Regionen aus biologischer und statistischer Sicht?"
   ]
  },
  {
   "cell_type": "markdown",
   "metadata": {},
   "source": [
    "### Anwendung auf Testsequenzen\n",
    "\n",
    "#### Auf welcher taxonomichen Ebene des phylogenetischen Baums befindet sich das Phylum und was lässt sich über die Verwandtschaft von Organismen aus unterschiedlichen Phyla sagen?"
   ]
  },
  {
   "cell_type": "markdown",
   "metadata": {},
   "source": [
    "#### Erzeugen Sie jeweils ein Histogramm der logarithmischen Scores für die 3 verschiedenen Testdateien."
   ]
  },
  {
   "cell_type": "markdown",
   "metadata": {},
   "source": [
    "#### Geben Sie ihre Vermutung ab, um welchen Typ es sich jeweils handelt (in jeder Datei sind nur Sequenzen eines Typs) und begründen Sie diese Vermutung."
   ]
  },
  {
   "cell_type": "markdown",
   "metadata": {},
   "source": [
    "#### Für jede Parameter-Konfiguration und jedes Phylum erzeugen Sie bitte eine ROC-Kurve und fügen diese ihrem Protokoll bei."
   ]
  },
  {
   "cell_type": "markdown",
   "metadata": {},
   "source": [
    "#### Setzen Sie nun die Emission-Pseudocounts auf 100 und die Transition-Pseudocounts (nur für Delete-Delete übergänge!) auf 200 (2 ROC-Kurven)."
   ]
  },
  {
   "cell_type": "markdown",
   "metadata": {},
   "source": [
    "#### Was ist zu beobachten? Wieso ist es sinnvoll, die Delete-Delete Pseudocounts zu modifizieren bzw. warum lässt sich so die Performanz auf kurzen Fragmenten verbessern?"
   ]
  },
  {
   "cell_type": "markdown",
   "metadata": {},
   "source": [
    "#### Geben Sie als letztes den Viterbi-Pfad der 100. Testsequenz in LSU_short_f.fasta für veränderte Transition-Pseudocounts (1, 50, 200) aus und vergleichen Sie die Ergebnisse. Was fällt auf?"
   ]
  },
  {
   "cell_type": "code",
   "execution_count": null,
   "metadata": {},
   "outputs": [],
   "source": []
  }
 ],
 "metadata": {
  "kernelspec": {
   "display_name": "Python 3",
   "language": "python",
   "name": "python3"
  },
  "language_info": {
   "codemirror_mode": {
    "name": "ipython",
    "version": 3
   },
   "file_extension": ".py",
   "mimetype": "text/x-python",
   "name": "python",
   "nbconvert_exporter": "python",
   "pygments_lexer": "ipython3",
   "version": "3.6.7"
  }
 },
 "nbformat": 4,
 "nbformat_minor": 2
}
